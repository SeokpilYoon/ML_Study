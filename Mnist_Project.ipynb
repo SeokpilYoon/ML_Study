{
 "cells": [
  {
   "cell_type": "code",
   "execution_count": 2,
   "metadata": {},
   "outputs": [
    {
     "name": "stdout",
     "output_type": "stream",
     "text": [
      "Successfully downloaded train-images-idx3-ubyte.gz 9912422 bytes.\n",
      "Extracting ./mnist/data/train-images-idx3-ubyte.gz\n",
      "Successfully downloaded train-labels-idx1-ubyte.gz 28881 bytes.\n",
      "Extracting ./mnist/data/train-labels-idx1-ubyte.gz\n",
      "Successfully downloaded t10k-images-idx3-ubyte.gz 1648877 bytes.\n",
      "Extracting ./mnist/data/t10k-images-idx3-ubyte.gz\n",
      "Successfully downloaded t10k-labels-idx1-ubyte.gz 4542 bytes.\n",
      "Extracting ./mnist/data/t10k-labels-idx1-ubyte.gz\n"
     ]
    }
   ],
   "source": [
    "# MNIST Project\n",
    "\n",
    "import tensorflow as tf\n",
    "(train_images, train_labels), (test_images, test_labels) = tf.keras.datasets.mnist.load_data()\n",
    "\n",
    "import matplotlib.pyplot as plt\n",
    "import numpy as np\n",
    "\n",
    "from tensorflow.examples.tutorials.mnist import input_data\n",
    "mnist = input_data.read_data_sets(\"./mnist/data/\", one_hot=True)"
   ]
  },
  {
   "cell_type": "code",
   "execution_count": 10,
   "metadata": {},
   "outputs": [],
   "source": [
    "'''신경망 모델을 구성합니다'''\n",
    "\n",
    "# 이미지는 28 * 28 픽셀로 원 핫 인코딩이므로 784가지 특징으로 구성됩니다.\n",
    "X = tf.placeholder(tf.float32, [None, 784])\n",
    "\n",
    "Y = tf.placeholder(tf.float32, [None, 10])"
   ]
  },
  {
   "cell_type": "code",
   "execution_count": 11,
   "metadata": {},
   "outputs": [],
   "source": [
    "# 784(입력층) -> 256 (은닉층 1) -> 64 (은닉층 2) -> 10 (출력층)\n",
    "# 표준 편차는 0.01로 정규분포를 가지도록 구성합니다.\n",
    "\n",
    "W1 = tf.Variable(tf.random_normal([784, 256], stddev=0.01 ))\n",
    "L1 = tf.nn.relu(tf.matmul(X, W1))\n",
    "\n",
    "W2 = tf.Variable(tf.random_normal([256, 64], stddev=0.01 ))\n",
    "L2 = tf.nn.relu(tf.matmul(L1, W2))\n",
    "\n",
    "W3 = tf.Variable(tf.random_normal([64, 10], stddev=0.01 ))\n",
    "\n",
    "model = tf.matmul(L2,W3)"
   ]
  },
  {
   "cell_type": "code",
   "execution_count": 12,
   "metadata": {},
   "outputs": [],
   "source": [
    "# 교차 엔트로피 손실 함수를 사용합니다.\n",
    "\n",
    "cost = tf.reduce_mean(tf.nn.softmax_cross_entropy_with_logits_v2(logits=model, labels=Y))"
   ]
  },
  {
   "cell_type": "code",
   "execution_count": 13,
   "metadata": {},
   "outputs": [],
   "source": [
    "# 손실값을 최소화하도록 최적화 작업을 수행합니다.\n",
    "optimizer = tf.train.AdamOptimizer(0.001).minimize(cost)"
   ]
  },
  {
   "cell_type": "code",
   "execution_count": 14,
   "metadata": {},
   "outputs": [],
   "source": [
    "'''신경망 모델을 학습시킵니다'''\n",
    "\n",
    "# 세션을 이용해 모델을 동작시킵니다\n",
    "init = tf.global_variables_initializer()\n",
    "sess = tf.Session()\n",
    "sess.run(init)"
   ]
  },
  {
   "cell_type": "code",
   "execution_count": 15,
   "metadata": {},
   "outputs": [],
   "source": [
    "# 데이터를 100개 단위로 쪼개서 학습시킵니다.\n",
    "batch_size = 100\n",
    "total_batch = int(mnist.train.num_examples / batch_size)"
   ]
  },
  {
   "cell_type": "code",
   "execution_count": 17,
   "metadata": {},
   "outputs": [
    {
     "name": "stdout",
     "output_type": "stream",
     "text": [
      "반복: 0001 평균 손실값: 0.0210\n",
      "반복: 0002 평균 손실값: 0.0166\n",
      "반복: 0003 평균 손실값: 0.0138\n",
      "반복: 0004 평균 손실값: 0.0105\n",
      "반복: 0005 평균 손실값: 0.0128\n",
      "반복: 0006 평균 손실값: 0.0074\n",
      "반복: 0007 평균 손실값: 0.0088\n",
      "반복: 0008 평균 손실값: 0.0114\n",
      "반복: 0009 평균 손실값: 0.0077\n",
      "반복: 0010 평균 손실값: 0.0114\n",
      "학습 완료!\n"
     ]
    }
   ],
   "source": [
    "# 학습 데이터를 총 10번 반복해서 학습합니다.\n",
    "for epoch in range(10):\n",
    "    total_cost = 0\n",
    "    for i in range(total_batch):\n",
    "        # 이미지 데이터, 출력 데이터를 구분하여 가져옵니다.\n",
    "        batch_x, batch_y = mnist.train.next_batch(batch_size)\n",
    "        _, cost_val = sess.run([optimizer,cost],feed_dict={X: batch_x, Y: batch_y})\n",
    "        total_cost += cost_val\n",
    "    print('반복:','%04d' % (epoch + 1), '평균 손실값:', '{:.4f}'.format(total_cost / total_batch))\n",
    "print('학습 완료!')"
   ]
  },
  {
   "cell_type": "code",
   "execution_count": 19,
   "metadata": {},
   "outputs": [
    {
     "name": "stdout",
     "output_type": "stream",
     "text": [
      "정확도: 0.9791\n"
     ]
    }
   ],
   "source": [
    "'''학습 정도를 확인합시다'''\n",
    "\n",
    "# 학습된 모델 값과 실제 결과 값을 비교합니다.\n",
    "is_correct = tf.equal(tf.argmax(model, 1), tf.argmax(Y,1))\n",
    "\n",
    "accuracy = tf.reduce_mean(tf.cast(is_correct, tf.float32))\n",
    "print('정확도:', sess.run(accuracy, feed_dict={X: mnist.test.images, Y: mnist.test.labels}))\n"
   ]
  },
  {
   "cell_type": "code",
   "execution_count": 20,
   "metadata": {},
   "outputs": [],
   "source": [
    "'''학습 결과를 그림으로 확인합니다'''\n",
    "labels = sess.run(model, feed_dict={X: mnist.test.images, Y: mnist.test.labels})"
   ]
  },
  {
   "cell_type": "code",
   "execution_count": 21,
   "metadata": {},
   "outputs": [
    {
     "data": {
      "image/png": "[encoded data removed]",
      "text/plain": [
       "<Figure size 432x288 with 20 Axes>"
      ]
     },
     "metadata": {},
     "output_type": "display_data"
    }
   ],
   "source": [
    "'''결과를 그림으로 확인합니다'''\n",
    "\n",
    "fig = plt.figure()\n",
    "\n",
    "# 그림 사이의 간격을 설정\n",
    "fig.subplots_adjust(left=0, bottom=0, right=1, top=1, wspace=1, hspace=1)\n",
    "\n",
    "for i in range(20):\n",
    "    # 4 X 5개의 테스트 이미지를 대상으로 예측을 수행합니다\n",
    "    subplot = fig.add_subplot(4, 5, i+1)\n",
    "    subplot.set_xticks([])\n",
    "    subplot.set_yticks([])\n",
    "    \n",
    "    # 예측 결과를 각 그림 위쪽에 출력합니다\n",
    "    subplot.set_title('%d' % np.argmax(labels[i]))\n",
    "    subplot.imshow(mnist.test.images[i].reshape((28,28)), cmap=plt.cm.gray_r)\n",
    "    \n",
    "plt.show()"
   ]
  },
  {
   "cell_type": "code",
   "execution_count": null,
   "metadata": {},
   "outputs": [],
   "source": []
  },
  {
   "cell_type": "code",
   "execution_count": null,
   "metadata": {},
   "outputs": [],
   "source": []
  }
 ],
 "metadata": {
  "kernelspec": {
   "display_name": "Python 3",
   "language": "python",
   "name": "python3"
  },
  "language_info": {
   "codemirror_mode": {
    "name": "ipython",
    "version": 3
   },
   "file_extension": ".py",
   "mimetype": "text/x-python",
   "name": "python",
   "nbconvert_exporter": "python",
   "pygments_lexer": "ipython3",
   "version": "3.6.10"
  }
 },
 "nbformat": 4,
 "nbformat_minor": 4
}
